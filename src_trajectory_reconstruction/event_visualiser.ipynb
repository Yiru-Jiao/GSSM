{
 "cells": [
  {
   "cell_type": "markdown",
   "metadata": {},
   "source": [
    "# This notebook is used to visualise the processed events."
   ]
  },
  {
   "cell_type": "code",
   "execution_count": null,
   "metadata": {},
   "outputs": [],
   "source": [
    "import os\n",
    "import sys\n",
    "import pandas as pd\n",
    "import matplotlib.pyplot as plt\n",
    "plt.rcParams.update({'font.size': 8})\n",
    "sys.path.append(os.path.dirname(os.path.abspath('./')))\n",
    "from src_visualisation.visual_utils.utils_dynamic import *\n",
    "from src_visualisation.visual_utils.utils_tabfig import reconstruction_error\n",
    "\n",
    "path_processed = '../ProcessedData/SHRP2/'"
   ]
  },
  {
   "cell_type": "markdown",
   "metadata": {},
   "source": [
    "## Count the number of events"
   ]
  },
  {
   "cell_type": "code",
   "execution_count": null,
   "metadata": {},
   "outputs": [],
   "source": [
    "meta_both = pd.read_csv(path_processed + 'metadata_birdseye.csv').set_index('event_id')\n",
    "\n",
    "event_counts = []\n",
    "event_counts.append(meta_both['event_category'].value_counts().rename('Originally recorded'))\n",
    "\n",
    "meta_both = meta_both[meta_both['ego_reconstructed'].astype(bool)]\n",
    "event_counts.append(meta_both['event_category'].value_counts().rename('Subject reconstructed'))\n",
    "\n",
    "meta_both = meta_both[meta_both['surrounding_reconstructed'].astype(bool)]\n",
    "event_counts.append(meta_both['event_category'].value_counts().rename('Both subject and object reconstructed'))\n",
    "\n",
    "event_counts = pd.concat(event_counts, axis=1).fillna(0).astype(int)\n",
    "event_counts.index.name = 'Event category'\n",
    "event_counts.loc['Events in total (excluding SafeBaseline)'] = event_counts.iloc[1:].sum()\n",
    "event_counts.to_csv(path_processed + 'event_counts.csv')\n",
    "\n",
    "event_categories = meta_both['event_category'].value_counts().index.values[::-1]\n",
    "event_counts"
   ]
  },
  {
   "cell_type": "code",
   "execution_count": null,
   "metadata": {},
   "outputs": [],
   "source": [
    "event_type = event_categories[4]\n",
    "data_ego = pd.read_hdf(path_processed + event_type + '/Ego_birdseye.h5', key='data')\n",
    "data_sur = pd.read_hdf(path_processed + event_type + '/Surrounding_birdseye.h5', key='data')\n",
    "\n",
    "fig = reconstruction_error(data_ego, data_sur, event_type)"
   ]
  },
  {
   "cell_type": "markdown",
   "metadata": {},
   "source": [
    "## Visualize BEV trajectories"
   ]
  },
  {
   "cell_type": "code",
   "execution_count": null,
   "metadata": {},
   "outputs": [],
   "source": [
    "event_list = data_sur[data_sur['v_ekf']<0.1]['event_id'].unique()"
   ]
  },
  {
   "cell_type": "code",
   "execution_count": null,
   "metadata": {},
   "outputs": [],
   "source": [
    "i = -1"
   ]
  },
  {
   "cell_type": "code",
   "execution_count": null,
   "metadata": {},
   "outputs": [],
   "source": [
    "i += 1\n",
    "event_id = event_list[i] #data_ego['event_id'].unique()[i]\n",
    "\n",
    "df_ego = data_ego[data_ego['event_id'] == event_id]\n",
    "df_sur = data_sur[data_sur['event_id'] == event_id]\n",
    "\n",
    "print(df_sur['target_id'].nunique())\n",
    "if len(df_sur)==0:\n",
    "    print('No surrounding data collected for trip ', event_id)\n",
    "else:\n",
    "    visualize_trip(df_ego, df_sur, event_id, ekf=True) # ekf=True for EKF data, False for raw data"
   ]
  },
  {
   "cell_type": "code",
   "execution_count": null,
   "metadata": {},
   "outputs": [],
   "source": []
  }
 ],
 "metadata": {
  "kernelspec": {
   "display_name": "conflict",
   "language": "python",
   "name": "python3"
  },
  "language_info": {
   "codemirror_mode": {
    "name": "ipython",
    "version": 3
   },
   "file_extension": ".py",
   "mimetype": "text/x-python",
   "name": "python",
   "nbconvert_exporter": "python",
   "pygments_lexer": "ipython3",
   "version": "3.12.9"
  }
 },
 "nbformat": 4,
 "nbformat_minor": 2
}
