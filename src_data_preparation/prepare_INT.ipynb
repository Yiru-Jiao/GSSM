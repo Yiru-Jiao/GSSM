{
 "cells": [
  {
   "cell_type": "markdown",
   "metadata": {},
   "source": [
    "## This script preprocesses the INTERACTION dataset.\n",
    "\n",
    "This reuses Code/Sampling_exp3.ipynb from DriverSpaceInference https://github.com/Yiru-Jiao/DriverSpaceInference"
   ]
  },
  {
   "cell_type": "code",
   "execution_count": null,
   "metadata": {},
   "outputs": [],
   "source": [
    "import os\n",
    "import sys\n",
    "import glob\n",
    "from tqdm import tqdm\n",
    "import pandas as pd\n",
    "import numpy as np\n",
    "from itertools import combinations\n",
    "import matplotlib.pyplot as plt\n",
    "import matplotlib as mpl\n",
    "mpl.rc('font',family='Arial')\n",
    "from shapely.geometry import Point, Polygon\n",
    "sys.path.append('INT_MapVis/python')\n",
    "import main_visualize_data as vs\n",
    "import warnings\n",
    "warnings.filterwarnings('ignore')\n",
    "\n",
    "location = 'DR_USA_Intersection_GL'\n",
    "path_raw = f'../RawData/INTERACTION/{location}/'\n",
    "path_processed = f'../ProcessedData/INTERACTION/'\n",
    "os.makedirs(path_processed, exist_ok=True)"
   ]
  },
  {
   "cell_type": "markdown",
   "metadata": {},
   "source": [
    "### Road segmentation"
   ]
  },
  {
   "cell_type": "code",
   "execution_count": 3,
   "metadata": {},
   "outputs": [],
   "source": [
    "data_files = sorted(glob.glob(f'{path_raw}vehicle*.csv'))\n",
    "data = pd.read_csv(data_files[0])\n",
    "x_min,x_max,y_min,y_max = [data.x.min(), data.x.max(), data.y.min(), data.y.max()]"
   ]
  },
  {
   "cell_type": "code",
   "execution_count": 4,
   "metadata": {},
   "outputs": [],
   "source": [
    "def createfig(t):\n",
    "    fig, ax = plt.subplots(figsize=(16,6))\n",
    "\n",
    "    lines = vs.draw_map(ax, 'DR_USA_Intersection_GL', xlim=[x_min-5, x_max+5], ylim=[y_min-5, y_max+5])\n",
    "    # ax.set_title('t = '+str(t/10)+' s')\n",
    "    ax.set(aspect='equal')\n",
    "    ax.set_xlabel('Global '+r'$x$'+' coordinate (m)')\n",
    "    ax.set_ylabel('Global '+r'$y$'+' coordinate (m)')\n",
    "\n",
    "    return fig, ax, lines\n",
    "\n",
    "def plotpolygon(xlist, ylist):\n",
    "    for i in range(len(xlist)):\n",
    "        plt.plot(xlist[i], ylist[i])\n",
    "        plt.text(xlist[i][0], ylist[i][0], str(i))\n",
    "        plt.gca().set_aspect('equal')\n",
    "\n",
    "_, _, lines = createfig(0)\n",
    "x_lists, y_lists, _ = lines\n",
    "plt.close()"
   ]
  },
  {
   "cell_type": "code",
   "execution_count": null,
   "metadata": {},
   "outputs": [],
   "source": [
    "x = []\n",
    "y = []\n",
    "\n",
    "x.append(x_lists[15][4:][::-1])\n",
    "y.append(y_lists[15][4:][::-1])\n",
    "\n",
    "x.append(x_lists[21])\n",
    "y.append(y_lists[21])\n",
    "\n",
    "x.append(x_lists[16])\n",
    "y.append(y_lists[16])\n",
    "\n",
    "xlist, ylist = (x,y)\n",
    "# plotpolygon(xlist, ylist)\n",
    "\n",
    "outmidright = Polygon(np.array([[e for x in xlist for e in x], [e for x in ylist for e in x]]).T)\n",
    "outmidright"
   ]
  },
  {
   "cell_type": "code",
   "execution_count": null,
   "metadata": {},
   "outputs": [],
   "source": [
    "x = []\n",
    "y = []\n",
    "\n",
    "x.append(x_lists[12][:-5])\n",
    "y.append(y_lists[12][:-5])\n",
    "\n",
    "x.append(x_lists[7][::-1])\n",
    "y.append(y_lists[7][::-1])\n",
    "\n",
    "x.append(x_lists[6][:-3][::-1])\n",
    "y.append(y_lists[6][:-3][::-1])\n",
    "\n",
    "xlist, ylist = (x,y)\n",
    "# plotpolygon(xlist, ylist)\n",
    "\n",
    "inmidright = Polygon(np.array([[e for x in xlist for e in x], [e for x in ylist for e in x]]).T)\n",
    "inmidright"
   ]
  },
  {
   "cell_type": "code",
   "execution_count": null,
   "metadata": {},
   "outputs": [],
   "source": [
    "x = []\n",
    "y = []\n",
    "\n",
    "x.append(x_lists[8])\n",
    "y.append(y_lists[8])\n",
    "\n",
    "x.append(x_lists[15][:4])\n",
    "y.append(y_lists[15][:4])\n",
    "\n",
    "x.append([(x_lists[2][-1]*0.6+x_lists[2][0]*0.4),x_lists[2][-1]][::-1])\n",
    "y.append([(y_lists[2][-1]*0.6+y_lists[2][0]*0.4),y_lists[2][-1]][::-1])\n",
    "\n",
    "x.append(x_lists[11][::-1])\n",
    "y.append(y_lists[11][::-1])\n",
    "\n",
    "xlist, ylist = (x,y)\n",
    "# plotpolygon(xlist, ylist)\n",
    "\n",
    "inmidleftdown = Polygon(np.array([[e for x in xlist for e in x], [e for x in ylist for e in x]]).T)\n",
    "inmidleftdown"
   ]
  },
  {
   "cell_type": "code",
   "execution_count": null,
   "metadata": {},
   "outputs": [],
   "source": [
    "x = []\n",
    "y = []\n",
    "\n",
    "x.append(x_lists[13][::-1])\n",
    "y.append(y_lists[13][::-1])\n",
    "\n",
    "x.append(x_lists[26][2:][::-1])\n",
    "y.append(y_lists[26][2:][::-1])\n",
    "\n",
    "x.append([(x_lists[2][-1]*0.6+x_lists[2][0]*0.4),x_lists[2][0]][::-1])\n",
    "y.append([(y_lists[2][-1]*0.6+y_lists[2][0]*0.4),y_lists[2][0]][::-1])\n",
    "\n",
    "x.append(x_lists[11][::-1])\n",
    "y.append(y_lists[11][::-1])\n",
    "\n",
    "xlist, ylist = (x,y)\n",
    "# plotpolygon(xlist, ylist)\n",
    "\n",
    "outmidleftdown = Polygon(np.array([[e for x in xlist for e in x], [e for x in ylist for e in x]]).T)\n",
    "outmidleftdown"
   ]
  },
  {
   "cell_type": "code",
   "execution_count": null,
   "metadata": {},
   "outputs": [],
   "source": [
    "x = []\n",
    "y = []\n",
    "\n",
    "x.append(x_lists[25])\n",
    "y.append(y_lists[25])\n",
    "\n",
    "x.append([(x_lists[31][-1]+x_lists[31][0])/2,x_lists[31][0]])\n",
    "y.append([(y_lists[31][-1]+y_lists[31][0])/2,y_lists[31][0]])\n",
    "\n",
    "x.append(x_lists[24])\n",
    "y.append(y_lists[24])\n",
    "\n",
    "xlist, ylist = (x,y)\n",
    "# plotpolygon(xlist, ylist)\n",
    "\n",
    "outmidleftup = Polygon(np.array([[e for x in xlist for e in x], [e for x in ylist for e in x]]).T)\n",
    "outmidleftup"
   ]
  },
  {
   "cell_type": "code",
   "execution_count": null,
   "metadata": {},
   "outputs": [],
   "source": [
    "x = []\n",
    "y = []\n",
    "\n",
    "x.append(x_lists[28])\n",
    "y.append(y_lists[28])\n",
    "\n",
    "x.append([(x_lists[31][-1]+x_lists[31][0])/2,x_lists[31][-1]][::-1])\n",
    "y.append([(y_lists[31][-1]+y_lists[31][0])/2,y_lists[31][-1]][::-1])\n",
    "\n",
    "x.append(x_lists[25][::-1])\n",
    "y.append(y_lists[25][::-1])\n",
    "\n",
    "xlist, ylist = (x,y)\n",
    "# plotpolygon(xlist, ylist)\n",
    "\n",
    "inmidleftup = Polygon(np.array([[e for x in xlist for e in x], [e for x in ylist for e in x]]).T)\n",
    "inmidleftup"
   ]
  },
  {
   "cell_type": "code",
   "execution_count": null,
   "metadata": {},
   "outputs": [],
   "source": [
    "x = []\n",
    "y = []\n",
    "\n",
    "x.append(x_lists[10])\n",
    "y.append(y_lists[10])\n",
    "\n",
    "x.append(x_lists[0][:])\n",
    "y.append(y_lists[0][:])\n",
    "\n",
    "x.append([(x_lists[4][0]+x_lists[4][-1])/2,x_lists[4][0]])\n",
    "y.append([(y_lists[4][0]+y_lists[4][-1])/2,y_lists[4][0]])\n",
    "\n",
    "x.append(x_lists[9][1:])\n",
    "y.append(y_lists[9][1:])\n",
    "\n",
    "xlist, ylist = (x,y)\n",
    "# plotpolygon(xlist, ylist)\n",
    "\n",
    "outleft = Polygon(np.array([[e for x in xlist for e in x], [e for x in ylist for e in x]]).T)\n",
    "outleft"
   ]
  },
  {
   "cell_type": "code",
   "execution_count": null,
   "metadata": {},
   "outputs": [],
   "source": [
    "x = []\n",
    "y = []\n",
    "\n",
    "x.append(x_lists[10])\n",
    "y.append(y_lists[10])\n",
    "\n",
    "x.append(x_lists[0][:])\n",
    "y.append(y_lists[0][:])\n",
    "\n",
    "x.append([(x_lists[4][0]+x_lists[4][-1])/2,x_lists[4][-1]])\n",
    "y.append([(y_lists[4][0]+y_lists[4][-1])/2,y_lists[4][-1]])\n",
    "\n",
    "x.append(x_lists[30][::-1])\n",
    "y.append(y_lists[30][::-1])\n",
    "\n",
    "xlist, ylist = (x,y)\n",
    "# plotpolygon(xlist, ylist)\n",
    "\n",
    "inleft = Polygon(np.array([[e for x in xlist for e in x], [e for x in ylist for e in x]]).T)\n",
    "inleft"
   ]
  },
  {
   "cell_type": "code",
   "execution_count": null,
   "metadata": {},
   "outputs": [],
   "source": [
    "x = []\n",
    "y = []\n",
    "\n",
    "x.append(x_lists[5][1:][::-1])\n",
    "y.append(y_lists[5][1:][::-1])\n",
    "\n",
    "x.append(x_lists[21][::-1])\n",
    "y.append(y_lists[21][::-1])\n",
    "\n",
    "x.append(x_lists[15][3:5][::-1])\n",
    "y.append(y_lists[15][3:5][::-1])\n",
    "\n",
    "x.append(x_lists[2][:][::-1])\n",
    "y.append(y_lists[2][:][::-1])\n",
    "\n",
    "x.append(x_lists[4][:][::-1])\n",
    "y.append(y_lists[4][:][::-1])\n",
    "\n",
    "x.append(x_lists[27][2:][::-1])\n",
    "y.append(y_lists[27][2:][::-1])\n",
    "\n",
    "x.append(x_lists[31][:][::-1])\n",
    "y.append(y_lists[31][:][::-1])\n",
    "\n",
    "x.append(x_lists[7][:][::-1])\n",
    "y.append(y_lists[7][:][::-1])\n",
    "\n",
    "x.append(x_lists[6][8:])\n",
    "y.append(y_lists[6][8:])\n",
    "\n",
    "xlist, ylist = (x,y)\n",
    "# plotpolygon(xlist, ylist)\n",
    "\n",
    "inside = Polygon(np.array([[e for x in xlist for e in x], [e for x in ylist for e in x]]).T)\n",
    "inside"
   ]
  },
  {
   "cell_type": "markdown",
   "metadata": {},
   "source": [
    "### Load data"
   ]
  },
  {
   "cell_type": "code",
   "execution_count": null,
   "metadata": {},
   "outputs": [],
   "source": [
    "data = []\n",
    "for data_file in tqdm(data_files):\n",
    "    df = pd.read_csv(data_file)\n",
    "    file_id = int(data_file[-7:-4])\n",
    "    df['file_id'] = file_id\n",
    "    df['frame_id'] = (file_id * 1e4 + df['frame_id']).astype(int)\n",
    "    df['track_id'] = (file_id * 1e3 + df['track_id']).astype(int)\n",
    "    df['unique_id'] = (df['track_id'] * 1e4 + df['frame_id'] % 1e4).astype(int)\n",
    "    data.append(df)\n",
    "data = pd.concat(data, ignore_index=True)\n",
    "print('Rows with NaN:', data.isna().any(axis=1).sum())"
   ]
  },
  {
   "cell_type": "code",
   "execution_count": null,
   "metadata": {},
   "outputs": [],
   "source": [
    "positions = np.zeros(len(data)).astype(str)\n",
    "poses = np.zeros(len(data)).astype(int)\n",
    "for idx in tqdm(range(len(data))):\n",
    "    point = Point(data.loc[idx,['x','y']].values)\n",
    "    for poly, position, pos in zip([outmidright, inmidright, inmidleftdown, outmidleftdown, outmidleftup, inmidleftup, outleft, inleft, inside],\n",
    "                                ['out_midright', 'in_midright', 'in_midleftdown', 'out_midleftdown', 'out_midleftup', 'in_midleftup', 'out_left', 'in_left', 'inside'],\n",
    "                                [-1, 1, 1, -1, -1, 1, -1, 1, 0]):\n",
    "        if point.within(poly):\n",
    "            positions[idx] = position\n",
    "            poses[idx] = pos\n",
    "            continue\n",
    "data['position'] = positions\n",
    "data['pos'] = poses\n",
    "print('Number of vehicles not in any polygon:', len(data[data['pos'].isna()]))\n",
    "data.loc[data['pos'].isna(),'pos'] = 0\n",
    "data.loc[abs(data['pos'])<0.5,'position'] = 'inside'\n",
    "\n",
    "# visualise to check\n",
    "fig, ax, _ = createfig(0)\n",
    "ax.scatter(data['x'], data['y'], s=1, c=data['pos'], cmap='viridis')"
   ]
  },
  {
   "cell_type": "code",
   "execution_count": null,
   "metadata": {},
   "outputs": [],
   "source": [
    "print('Rows with NaN:', data.isna().any(axis=1).sum())\n",
    "\n",
    "# correct heading directions\n",
    "data['hx'] = np.cos(data['psi_rad'])\n",
    "data['hy'] = np.sin(data['psi_rad'])\n",
    "data.loc[np.sign(data['vx'])*np.sign(data['hx'])==-1, 'hx'] = -data[np.sign(data['vx'])*np.sign(data['hx'])==-1]['hx']\n",
    "data.loc[np.sign(data['vy'])*np.sign(data['hy'])==-1, 'hy'] = -data[np.sign(data['vy'])*np.sign(data['hy'])==-1]['hy']"
   ]
  },
  {
   "cell_type": "code",
   "execution_count": null,
   "metadata": {},
   "outputs": [],
   "source": [
    "# derive acceleration\n",
    "data['time'] = data['timestamp_ms']/1000\n",
    "data = data.sort_values(['track_id','time']).set_index('track_id')\n",
    "for track_id in tqdm(data.index.unique()):\n",
    "    df = data.loc[track_id]\n",
    "    longitudinal_speed = np.sqrt(df['vx']**2 + df['vy']**2).values\n",
    "    acceleration = np.gradient(longitudinal_speed, df['time'].values)\n",
    "    data.loc[track_id, 'v'] = longitudinal_speed\n",
    "    data.loc[track_id, 'acc'] = acceleration\n",
    "\n",
    "data = data.reset_index()\n",
    "data.to_hdf(f'{path_processed}GL.h5', key='data', mode='w')"
   ]
  },
  {
   "cell_type": "code",
   "execution_count": null,
   "metadata": {},
   "outputs": [],
   "source": [
    "print('There are {} vehicles'.format(len(data['track_id'].drop_duplicates())))\n",
    "print('{:.2f} hours of data is recorded'.format(len(data['frame_id'].drop_duplicates())/10/60/60))\n",
    "print('The distance range is {:.2f} m'.format(data['x'].max() - data['x'].min()))"
   ]
  },
  {
   "cell_type": "markdown",
   "metadata": {},
   "source": [
    "### Pairing"
   ]
  },
  {
   "cell_type": "code",
   "execution_count": 47,
   "metadata": {},
   "outputs": [],
   "source": [
    "data = pd.read_hdf(f'{path_processed}GL.h5', key='data')"
   ]
  },
  {
   "cell_type": "code",
   "execution_count": null,
   "metadata": {},
   "outputs": [],
   "source": [
    "print('Creating pairs...')\n",
    "pair_idx = data.groupby('frame_id').apply(lambda x : pd.DataFrame.from_records(combinations(x.unique_id, 2)))\n",
    "\n",
    "print('Organising pairs...')\n",
    "pairs = pd.DataFrame({'frame_id':pair_idx.index.get_level_values(0).astype(int), \n",
    "                      'i':(pair_idx[0].values//1e4).astype(int), \n",
    "                      'j':(pair_idx[1].values//1e4).astype(int)})\n",
    "pairs['file_id'] = (pairs['frame_id']//1e4).astype(int)\n",
    "pairs['time'] = pairs['frame_id']%1e4/10\n",
    "features = ['x','y','acc','v','vx','vy','hx','hy','length','width','pos']\n",
    "pairs[[f'{feature}_ego' for feature in features]] = data.set_index('unique_id').reindex(index=pair_idx[0].values)[features].values\n",
    "pairs[[f'{feature}_sur' for feature in features]] = data.set_index('unique_id').reindex(index=pair_idx[1].values)[features].values\n",
    "data = [] # release memory"
   ]
  },
  {
   "cell_type": "code",
   "execution_count": null,
   "metadata": {},
   "outputs": [],
   "source": [
    "pairs = pairs[(pairs['pos_ego']*pairs['pos_sur'])>-0.5] # vehicles in the entering lane cannot interact with vehicles in the exit lane\n",
    "pair_size = pairs.groupby(['i','j']).size()\n",
    "pair_size = pair_size[(pair_size>=25)&(pair_size<=85)] # 2.5-8.5 seconds, otherwise either too short or too long\n",
    "\n",
    "pairs = pairs[pairs.set_index(['i','j']).index.isin(pair_size.index)].reset_index(drop=True)\n",
    "\n",
    "print('Saving pairs...')\n",
    "pairs.to_hdf(f'{path_processed}paired_GL.h5', key='pairs', mode='w')"
   ]
  },
  {
   "cell_type": "code",
   "execution_count": null,
   "metadata": {},
   "outputs": [],
   "source": []
  }
 ],
 "metadata": {
  "kernelspec": {
   "display_name": "conflict",
   "language": "python",
   "name": "python3"
  },
  "language_info": {
   "codemirror_mode": {
    "name": "ipython",
    "version": 3
   },
   "file_extension": ".py",
   "mimetype": "text/x-python",
   "name": "python",
   "nbconvert_exporter": "python",
   "pygments_lexer": "ipython3",
   "version": "3.12.5"
  }
 },
 "nbformat": 4,
 "nbformat_minor": 2
}
